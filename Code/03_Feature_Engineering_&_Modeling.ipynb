{
 "cells": [
  {
   "cell_type": "markdown",
   "metadata": {},
   "source": [
    "# Feature Engineering & Modeling\n",
    "\n",
    "after EDA, we will be putting out data into model. We will first do the unsupervised learning then followed by supervised learning modeling. \n"
   ]
  },
  {
   "cell_type": "code",
   "execution_count": 69,
   "metadata": {},
   "outputs": [],
   "source": [
    "import pandas as pd\n",
    "import time\n",
    "import numpy as np\n",
    "from sklearn.cluster import KMeans, k_means\n",
    "from matplotlib import pyplot as plt\n",
    "from sklearn.model_selection import train_test_split, GridSearchCV\n",
    "from sklearn.linear_model import LogisticRegression\n",
    "from sklearn.neighbors import KNeighborsClassifier\n",
    "from sklearn.ensemble import RandomForestClassifier\n",
    "from sklearn.pipeline import Pipeline"
   ]
  },
  {
   "cell_type": "code",
   "execution_count": 6,
   "metadata": {},
   "outputs": [],
   "source": [
    "df = pd.read_csv('../Data/yelp_dataset_final.csv')\n",
    "df.drop('Index', 1, inplace=True)"
   ]
  },
  {
   "cell_type": "markdown",
   "metadata": {},
   "source": [
    "### Feature Engineering"
   ]
  },
  {
   "cell_type": "code",
   "execution_count": 7,
   "metadata": {},
   "outputs": [],
   "source": [
    "states_to_drop = ['NY','TX','CA','IN','VA','KY','CO','OR']\n",
    "df = df[~df['STATE'].isin(states_to_drop)]\n",
    "df.reset_index(inplace=True)\n",
    "df.drop('index', axis=1, inplace=True)\n",
    "df['target'].replace(5,4, inplace=True)"
   ]
  },
  {
   "cell_type": "code",
   "execution_count": 31,
   "metadata": {},
   "outputs": [
    {
     "data": {
      "text/plain": [
       "array([2, 4, 3, 1, 5])"
      ]
     },
     "execution_count": 31,
     "metadata": {},
     "output_type": "execute_result"
    }
   ],
   "source": [
    "df.target.unique()"
   ]
  },
  {
   "cell_type": "code",
   "execution_count": 8,
   "metadata": {},
   "outputs": [
    {
     "data": {
      "text/html": [
       "<div>\n",
       "<style scoped>\n",
       "    .dataframe tbody tr th:only-of-type {\n",
       "        vertical-align: middle;\n",
       "    }\n",
       "\n",
       "    .dataframe tbody tr th {\n",
       "        vertical-align: top;\n",
       "    }\n",
       "\n",
       "    .dataframe thead th {\n",
       "        text-align: right;\n",
       "    }\n",
       "</style>\n",
       "<table border=\"1\" class=\"dataframe\">\n",
       "  <thead>\n",
       "    <tr style=\"text-align: right;\">\n",
       "      <th></th>\n",
       "      <th>zip</th>\n",
       "      <th>yelp_dollar_1</th>\n",
       "      <th>yelp_dollar_2</th>\n",
       "      <th>yelp_dollar_3</th>\n",
       "      <th>yelp_dollar_4</th>\n",
       "      <th>Total_Business</th>\n",
       "      <th>STATE</th>\n",
       "      <th>income_level_1</th>\n",
       "      <th>income_level_2</th>\n",
       "      <th>income_level_3</th>\n",
       "      <th>income_level_4</th>\n",
       "      <th>income_level_5</th>\n",
       "      <th>income_level_6</th>\n",
       "      <th>target</th>\n",
       "    </tr>\n",
       "  </thead>\n",
       "  <tbody>\n",
       "    <tr>\n",
       "      <th>0</th>\n",
       "      <td>15003</td>\n",
       "      <td>6</td>\n",
       "      <td>8</td>\n",
       "      <td>0</td>\n",
       "      <td>2</td>\n",
       "      <td>16</td>\n",
       "      <td>PA</td>\n",
       "      <td>2340.0</td>\n",
       "      <td>1650.0</td>\n",
       "      <td>820.0</td>\n",
       "      <td>450.0</td>\n",
       "      <td>360.0</td>\n",
       "      <td>40.0</td>\n",
       "      <td>2</td>\n",
       "    </tr>\n",
       "    <tr>\n",
       "      <th>1</th>\n",
       "      <td>15015</td>\n",
       "      <td>0</td>\n",
       "      <td>1</td>\n",
       "      <td>0</td>\n",
       "      <td>0</td>\n",
       "      <td>1</td>\n",
       "      <td>PA</td>\n",
       "      <td>160.0</td>\n",
       "      <td>70.0</td>\n",
       "      <td>60.0</td>\n",
       "      <td>70.0</td>\n",
       "      <td>190.0</td>\n",
       "      <td>110.0</td>\n",
       "      <td>4</td>\n",
       "    </tr>\n",
       "    <tr>\n",
       "      <th>2</th>\n",
       "      <td>15017</td>\n",
       "      <td>17</td>\n",
       "      <td>41</td>\n",
       "      <td>6</td>\n",
       "      <td>3</td>\n",
       "      <td>67</td>\n",
       "      <td>PA</td>\n",
       "      <td>2380.0</td>\n",
       "      <td>1930.0</td>\n",
       "      <td>1320.0</td>\n",
       "      <td>910.0</td>\n",
       "      <td>1330.0</td>\n",
       "      <td>520.0</td>\n",
       "      <td>2</td>\n",
       "    </tr>\n",
       "    <tr>\n",
       "      <th>3</th>\n",
       "      <td>15024</td>\n",
       "      <td>2</td>\n",
       "      <td>6</td>\n",
       "      <td>1</td>\n",
       "      <td>1</td>\n",
       "      <td>10</td>\n",
       "      <td>PA</td>\n",
       "      <td>1470.0</td>\n",
       "      <td>1050.0</td>\n",
       "      <td>650.0</td>\n",
       "      <td>490.0</td>\n",
       "      <td>630.0</td>\n",
       "      <td>180.0</td>\n",
       "      <td>2</td>\n",
       "    </tr>\n",
       "    <tr>\n",
       "      <th>4</th>\n",
       "      <td>15025</td>\n",
       "      <td>2</td>\n",
       "      <td>4</td>\n",
       "      <td>0</td>\n",
       "      <td>0</td>\n",
       "      <td>6</td>\n",
       "      <td>PA</td>\n",
       "      <td>2870.0</td>\n",
       "      <td>1740.0</td>\n",
       "      <td>1000.0</td>\n",
       "      <td>730.0</td>\n",
       "      <td>1200.0</td>\n",
       "      <td>370.0</td>\n",
       "      <td>2</td>\n",
       "    </tr>\n",
       "  </tbody>\n",
       "</table>\n",
       "</div>"
      ],
      "text/plain": [
       "     zip  yelp_dollar_1  yelp_dollar_2  yelp_dollar_3  yelp_dollar_4  \\\n",
       "0  15003              6              8              0              2   \n",
       "1  15015              0              1              0              0   \n",
       "2  15017             17             41              6              3   \n",
       "3  15024              2              6              1              1   \n",
       "4  15025              2              4              0              0   \n",
       "\n",
       "   Total_Business STATE  income_level_1  income_level_2  income_level_3  \\\n",
       "0              16    PA          2340.0          1650.0           820.0   \n",
       "1               1    PA           160.0            70.0            60.0   \n",
       "2              67    PA          2380.0          1930.0          1320.0   \n",
       "3              10    PA          1470.0          1050.0           650.0   \n",
       "4               6    PA          2870.0          1740.0          1000.0   \n",
       "\n",
       "   income_level_4  income_level_5  income_level_6  target  \n",
       "0           450.0           360.0            40.0       2  \n",
       "1            70.0           190.0           110.0       4  \n",
       "2           910.0          1330.0           520.0       2  \n",
       "3           490.0           630.0           180.0       2  \n",
       "4           730.0          1200.0           370.0       2  "
      ]
     },
     "execution_count": 8,
     "metadata": {},
     "output_type": "execute_result"
    }
   ],
   "source": [
    "df.head()"
   ]
  },
  {
   "cell_type": "markdown",
   "metadata": {},
   "source": [
    "What Happened?\n",
    " - We drop the state of NY, TX, CA, IN, VA, KY, CO and OR since they don't have a significant(very little) amount of businesses comparing to other sates.\n",
    " - These states are not in one metro area, for example PA are in (something something) \n",
    " - We merged our target 5 with 4. Because, there were only four 5s in our dataset, to prevent outlier issue.\n",
    "---"
   ]
  },
  {
   "cell_type": "markdown",
   "metadata": {},
   "source": [
    "### Scaling Variables"
   ]
  },
  {
   "cell_type": "code",
   "execution_count": 39,
   "metadata": {},
   "outputs": [],
   "source": [
    "bias = 3\n",
    "df['scaled_yelp_1'] = (df['yelp_dollar_1'] + bias) / (df['Total_Business']+4*bias)\n",
    "df['scaled_yelp_2'] = (df['yelp_dollar_2'] + bias) / (df['Total_Business']+4*bias)\n",
    "df['scaled_yelp_3'] = (df['yelp_dollar_3'] + bias) / (df['Total_Business']+4*bias)\n",
    "df['scaled_yelp_4'] = (df['yelp_dollar_4'] + bias) / (df['Total_Business']+4*bias)\n"
   ]
  },
  {
   "cell_type": "code",
   "execution_count": 40,
   "metadata": {},
   "outputs": [
    {
     "data": {
      "text/html": [
       "<div>\n",
       "<style scoped>\n",
       "    .dataframe tbody tr th:only-of-type {\n",
       "        vertical-align: middle;\n",
       "    }\n",
       "\n",
       "    .dataframe tbody tr th {\n",
       "        vertical-align: top;\n",
       "    }\n",
       "\n",
       "    .dataframe thead th {\n",
       "        text-align: right;\n",
       "    }\n",
       "</style>\n",
       "<table border=\"1\" class=\"dataframe\">\n",
       "  <thead>\n",
       "    <tr style=\"text-align: right;\">\n",
       "      <th></th>\n",
       "      <th>zip</th>\n",
       "      <th>yelp_dollar_1</th>\n",
       "      <th>yelp_dollar_2</th>\n",
       "      <th>yelp_dollar_3</th>\n",
       "      <th>yelp_dollar_4</th>\n",
       "      <th>Total_Business</th>\n",
       "      <th>STATE</th>\n",
       "      <th>income_level_1</th>\n",
       "      <th>income_level_2</th>\n",
       "      <th>income_level_3</th>\n",
       "      <th>income_level_4</th>\n",
       "      <th>income_level_5</th>\n",
       "      <th>income_level_6</th>\n",
       "      <th>target</th>\n",
       "      <th>scaled_yelp_1</th>\n",
       "      <th>scaled_yelp_2</th>\n",
       "      <th>scaled_yelp_3</th>\n",
       "      <th>scaled_yelp_4</th>\n",
       "    </tr>\n",
       "  </thead>\n",
       "  <tbody>\n",
       "    <tr>\n",
       "      <th>0</th>\n",
       "      <td>15003</td>\n",
       "      <td>6</td>\n",
       "      <td>8</td>\n",
       "      <td>0</td>\n",
       "      <td>2</td>\n",
       "      <td>16</td>\n",
       "      <td>PA</td>\n",
       "      <td>2340.0</td>\n",
       "      <td>1650.0</td>\n",
       "      <td>820.0</td>\n",
       "      <td>450.0</td>\n",
       "      <td>360.0</td>\n",
       "      <td>40.0</td>\n",
       "      <td>2</td>\n",
       "      <td>0.321429</td>\n",
       "      <td>0.392857</td>\n",
       "      <td>0.107143</td>\n",
       "      <td>0.178571</td>\n",
       "    </tr>\n",
       "    <tr>\n",
       "      <th>1</th>\n",
       "      <td>15015</td>\n",
       "      <td>0</td>\n",
       "      <td>1</td>\n",
       "      <td>0</td>\n",
       "      <td>0</td>\n",
       "      <td>1</td>\n",
       "      <td>PA</td>\n",
       "      <td>160.0</td>\n",
       "      <td>70.0</td>\n",
       "      <td>60.0</td>\n",
       "      <td>70.0</td>\n",
       "      <td>190.0</td>\n",
       "      <td>110.0</td>\n",
       "      <td>4</td>\n",
       "      <td>0.230769</td>\n",
       "      <td>0.307692</td>\n",
       "      <td>0.230769</td>\n",
       "      <td>0.230769</td>\n",
       "    </tr>\n",
       "    <tr>\n",
       "      <th>2</th>\n",
       "      <td>15017</td>\n",
       "      <td>17</td>\n",
       "      <td>41</td>\n",
       "      <td>6</td>\n",
       "      <td>3</td>\n",
       "      <td>67</td>\n",
       "      <td>PA</td>\n",
       "      <td>2380.0</td>\n",
       "      <td>1930.0</td>\n",
       "      <td>1320.0</td>\n",
       "      <td>910.0</td>\n",
       "      <td>1330.0</td>\n",
       "      <td>520.0</td>\n",
       "      <td>2</td>\n",
       "      <td>0.253165</td>\n",
       "      <td>0.556962</td>\n",
       "      <td>0.113924</td>\n",
       "      <td>0.075949</td>\n",
       "    </tr>\n",
       "    <tr>\n",
       "      <th>3</th>\n",
       "      <td>15024</td>\n",
       "      <td>2</td>\n",
       "      <td>6</td>\n",
       "      <td>1</td>\n",
       "      <td>1</td>\n",
       "      <td>10</td>\n",
       "      <td>PA</td>\n",
       "      <td>1470.0</td>\n",
       "      <td>1050.0</td>\n",
       "      <td>650.0</td>\n",
       "      <td>490.0</td>\n",
       "      <td>630.0</td>\n",
       "      <td>180.0</td>\n",
       "      <td>2</td>\n",
       "      <td>0.227273</td>\n",
       "      <td>0.409091</td>\n",
       "      <td>0.181818</td>\n",
       "      <td>0.181818</td>\n",
       "    </tr>\n",
       "    <tr>\n",
       "      <th>4</th>\n",
       "      <td>15025</td>\n",
       "      <td>2</td>\n",
       "      <td>4</td>\n",
       "      <td>0</td>\n",
       "      <td>0</td>\n",
       "      <td>6</td>\n",
       "      <td>PA</td>\n",
       "      <td>2870.0</td>\n",
       "      <td>1740.0</td>\n",
       "      <td>1000.0</td>\n",
       "      <td>730.0</td>\n",
       "      <td>1200.0</td>\n",
       "      <td>370.0</td>\n",
       "      <td>2</td>\n",
       "      <td>0.277778</td>\n",
       "      <td>0.388889</td>\n",
       "      <td>0.166667</td>\n",
       "      <td>0.166667</td>\n",
       "    </tr>\n",
       "  </tbody>\n",
       "</table>\n",
       "</div>"
      ],
      "text/plain": [
       "     zip  yelp_dollar_1  yelp_dollar_2  yelp_dollar_3  yelp_dollar_4  \\\n",
       "0  15003              6              8              0              2   \n",
       "1  15015              0              1              0              0   \n",
       "2  15017             17             41              6              3   \n",
       "3  15024              2              6              1              1   \n",
       "4  15025              2              4              0              0   \n",
       "\n",
       "   Total_Business STATE  income_level_1  income_level_2  income_level_3  \\\n",
       "0              16    PA          2340.0          1650.0           820.0   \n",
       "1               1    PA           160.0            70.0            60.0   \n",
       "2              67    PA          2380.0          1930.0          1320.0   \n",
       "3              10    PA          1470.0          1050.0           650.0   \n",
       "4               6    PA          2870.0          1740.0          1000.0   \n",
       "\n",
       "   income_level_4  income_level_5  income_level_6  target  scaled_yelp_1  \\\n",
       "0           450.0           360.0            40.0       2       0.321429   \n",
       "1            70.0           190.0           110.0       4       0.230769   \n",
       "2           910.0          1330.0           520.0       2       0.253165   \n",
       "3           490.0           630.0           180.0       2       0.227273   \n",
       "4           730.0          1200.0           370.0       2       0.277778   \n",
       "\n",
       "   scaled_yelp_2  scaled_yelp_3  scaled_yelp_4  \n",
       "0       0.392857       0.107143       0.178571  \n",
       "1       0.307692       0.230769       0.230769  \n",
       "2       0.556962       0.113924       0.075949  \n",
       "3       0.409091       0.181818       0.181818  \n",
       "4       0.388889       0.166667       0.166667  "
      ]
     },
     "execution_count": 40,
     "metadata": {},
     "output_type": "execute_result"
    }
   ],
   "source": [
    "df.head()"
   ]
  },
  {
   "cell_type": "code",
   "execution_count": 114,
   "metadata": {},
   "outputs": [],
   "source": [
    "import seaborn as sns"
   ]
  },
  {
   "cell_type": "code",
   "execution_count": 116,
   "metadata": {},
   "outputs": [
    {
     "data": {
      "text/plain": [
       "<matplotlib.axes._subplots.AxesSubplot at 0x134d4fcc0>"
      ]
     },
     "execution_count": 116,
     "metadata": {},
     "output_type": "execute_result"
    },
    {
     "data": {
      "image/png": "[encoded data removed]",
      "text/plain": [
       "<Figure size 432x288 with 1 Axes>"
      ]
     },
     "metadata": {
      "needs_background": "light"
     },
     "output_type": "display_data"
    }
   ],
   "source": [
    "sns.violinplot(y='Total_Business',\n",
    "       x='target', data = df[df['STATE']=='AZ'])"
   ]
  },
  {
   "cell_type": "code",
   "execution_count": 113,
   "metadata": {},
   "outputs": [
    {
     "data": {
      "text/plain": [
       "<matplotlib.axes._subplots.AxesSubplot at 0x133f5b6a0>"
      ]
     },
     "execution_count": 113,
     "metadata": {},
     "output_type": "execute_result"
    },
    {
     "data": {
      "image/png": "[encoded data removed]",
      "text/plain": [
       "<Figure size 432x288 with 1 Axes>"
      ]
     },
     "metadata": {
      "needs_background": "light"
     },
     "output_type": "display_data"
    }
   ],
   "source": [
    "df.plot(kind='scatter',\n",
    "       y='Total_Business',\n",
    "       x='target')"
   ]
  },
  {
   "cell_type": "markdown",
   "metadata": {},
   "source": [
    "Why sacle our variables?\n",
    " - We scale our variables to avoid unrealistic desribution of the yelp dollar sign, if left alone, these algorithms only take in the magnitude of features neglecting the units. The results would vary greatly between different units. The features with high magnitudes will weigh in a lot more in the distance calculations than features with low magnitudes.\n",
    "---"
   ]
  },
  {
   "cell_type": "markdown",
   "metadata": {},
   "source": [
    "# Model Preparation"
   ]
  },
  {
   "cell_type": "code",
   "execution_count": 42,
   "metadata": {},
   "outputs": [],
   "source": [
    "X = df[['scaled_yelp_1', 'scaled_yelp_2','scaled_yelp_3', 'scaled_yelp_4']]\n",
    "y = df['target']"
   ]
  },
  {
   "cell_type": "code",
   "execution_count": 43,
   "metadata": {},
   "outputs": [],
   "source": [
    "X_train, X_test, y_train, y_test = train_test_split(X, y, random_state=42)"
   ]
  },
  {
   "cell_type": "markdown",
   "metadata": {},
   "source": [
    "## Basedline Model"
   ]
  },
  {
   "cell_type": "code",
   "execution_count": 44,
   "metadata": {},
   "outputs": [
    {
     "data": {
      "text/plain": [
       "2    0.615385\n",
       "3    0.250493\n",
       "1    0.086785\n",
       "4    0.047337\n",
       "Name: target, dtype: float64"
      ]
     },
     "execution_count": 44,
     "metadata": {},
     "output_type": "execute_result"
    }
   ],
   "source": [
    "y.value_counts(normalize=True)"
   ]
  },
  {
   "cell_type": "markdown",
   "metadata": {},
   "source": [
    "What is this ?\n",
    " - This is our baseline model. 0 to 4 represent the affluency, where 0 is the least affluenced and 4 is the most affluenced. The majority of our target fall under 2. Our base goal is to fit our data into several models and get the accuracy score that is higher than 61.53%. In that case, we will know that our model are performing better than the baseline."
   ]
  },
  {
   "cell_type": "markdown",
   "metadata": {},
   "source": [
    "## Machine Learning Model: Logistic Regression\n",
    "---"
   ]
  },
  {
   "cell_type": "code",
   "execution_count": 62,
   "metadata": {},
   "outputs": [],
   "source": [
    "params = {'C': [1.0, 2.0, 3.0, 4.0]}"
   ]
  },
  {
   "cell_type": "code",
   "execution_count": 63,
   "metadata": {},
   "outputs": [
    {
     "name": "stdout",
     "output_type": "stream",
     "text": [
      "Time Spent: 0 mins\n"
     ]
    }
   ],
   "source": [
    "start_time = time.time()\n",
    "gs_lr = GridSearchCV(LogisticRegression(random_state=42,\n",
    "                                        solver='lbfgs',\n",
    "                                        multi_class='multinomial'),\n",
    "                    param_grid=params,\n",
    "                    return_train_score=False,\n",
    "                    cv=3)\n",
    "gs_lr.fit(X_train, y_train)\n",
    "print(f'Time Spent: {round((time.time()-start_time)/60)} mins')"
   ]
  },
  {
   "cell_type": "code",
   "execution_count": 64,
   "metadata": {},
   "outputs": [
    {
     "data": {
      "text/plain": [
       "{'C': 1.0}"
      ]
     },
     "execution_count": 64,
     "metadata": {},
     "output_type": "execute_result"
    }
   ],
   "source": [
    "gs_lr.best_params_"
   ]
  },
  {
   "cell_type": "code",
   "execution_count": 65,
   "metadata": {},
   "outputs": [
    {
     "data": {
      "text/plain": [
       "0.6105263157894737"
      ]
     },
     "execution_count": 65,
     "metadata": {},
     "output_type": "execute_result"
    }
   ],
   "source": [
    "gs_lr.score(X_train, y_train)"
   ]
  },
  {
   "cell_type": "code",
   "execution_count": 53,
   "metadata": {},
   "outputs": [
    {
     "data": {
      "text/plain": [
       "0.6299212598425197"
      ]
     },
     "execution_count": 53,
     "metadata": {},
     "output_type": "execute_result"
    }
   ],
   "source": [
    "gs_lr.score(X_test, y_test)"
   ]
  },
  {
   "cell_type": "code",
   "execution_count": 105,
   "metadata": {},
   "outputs": [
    {
     "data": {
      "text/plain": [
       "array([ 0.1       ,  0.46415888,  2.15443469, 10.        ])"
      ]
     },
     "execution_count": 105,
     "metadata": {},
     "output_type": "execute_result"
    }
   ],
   "source": [
    "np.logspace(-1, 1, 4)"
   ]
  },
  {
   "cell_type": "code",
   "execution_count": 98,
   "metadata": {},
   "outputs": [],
   "source": [
    "pipe = Pipeline([('classifier', RandomForestClassifier())])\n",
    "\n",
    "# Create space of candidate learning algorithms and their hyperparameters\n",
    "search_space = [{'classifier': [LogisticRegression(solver='lbfgs', multi_class='multinomial')],\n",
    "                 'classifier__C': np.logspace(0, 2, 4)},\n",
    "                {'classifier': [RandomForestClassifier()],\n",
    "                 'classifier__n_estimators': [10, 100, 1000],\n",
    "                 'classifier__max_features': [1, 2, 3]},\n",
    "                {'classifier': [KNeighborsClassifier()],\n",
    "                 'classifier__n_neighbors': [1, 3, 5, 7, 10]}]"
   ]
  },
  {
   "cell_type": "code",
   "execution_count": 99,
   "metadata": {},
   "outputs": [
    {
     "name": "stderr",
     "output_type": "stream",
     "text": [
      "/Users/rexchang/anaconda3/lib/python3.6/site-packages/sklearn/linear_model/logistic.py:758: ConvergenceWarning: lbfgs failed to converge. Increase the number of iterations.\n",
      "  \"of iterations.\", ConvergenceWarning)\n",
      "/Users/rexchang/anaconda3/lib/python3.6/site-packages/sklearn/linear_model/logistic.py:758: ConvergenceWarning: lbfgs failed to converge. Increase the number of iterations.\n",
      "  \"of iterations.\", ConvergenceWarning)\n",
      "/Users/rexchang/anaconda3/lib/python3.6/site-packages/sklearn/linear_model/logistic.py:758: ConvergenceWarning: lbfgs failed to converge. Increase the number of iterations.\n",
      "  \"of iterations.\", ConvergenceWarning)\n",
      "/Users/rexchang/anaconda3/lib/python3.6/site-packages/sklearn/linear_model/logistic.py:758: ConvergenceWarning: lbfgs failed to converge. Increase the number of iterations.\n",
      "  \"of iterations.\", ConvergenceWarning)\n",
      "/Users/rexchang/anaconda3/lib/python3.6/site-packages/sklearn/linear_model/logistic.py:758: ConvergenceWarning: lbfgs failed to converge. Increase the number of iterations.\n",
      "  \"of iterations.\", ConvergenceWarning)\n",
      "/Users/rexchang/anaconda3/lib/python3.6/site-packages/sklearn/linear_model/logistic.py:758: ConvergenceWarning: lbfgs failed to converge. Increase the number of iterations.\n",
      "  \"of iterations.\", ConvergenceWarning)\n"
     ]
    },
    {
     "name": "stdout",
     "output_type": "stream",
     "text": [
      "Time Spent: 0 mins\n"
     ]
    },
    {
     "name": "stderr",
     "output_type": "stream",
     "text": [
      "/Users/rexchang/anaconda3/lib/python3.6/site-packages/sklearn/model_selection/_search.py:841: DeprecationWarning: The default of the `iid` parameter will change from True to False in version 0.22 and will be removed in 0.24. This will change numeric results when test-set sizes are unequal.\n",
      "  DeprecationWarning)\n"
     ]
    }
   ],
   "source": [
    "gs = GridSearchCV(pipe, search_space, cv=5)\n",
    "start_time = time.time()\n",
    "best_model = gs.fit(X_train, y_train)\n",
    "print(f'Time Spent: {round((time.time()-start_time)/60)} mins')"
   ]
  },
  {
   "cell_type": "code",
   "execution_count": 100,
   "metadata": {},
   "outputs": [
    {
     "data": {
      "text/plain": [
       "Pipeline(memory=None,\n",
       "     steps=[('classifier', LogisticRegression(C=1.0, class_weight=None, dual=False, fit_intercept=True,\n",
       "          intercept_scaling=1, max_iter=100, multi_class='multinomial',\n",
       "          n_jobs=None, penalty='l2', random_state=None, solver='lbfgs',\n",
       "          tol=0.0001, verbose=0, warm_start=False))])"
      ]
     },
     "execution_count": 100,
     "metadata": {},
     "output_type": "execute_result"
    }
   ],
   "source": [
    "gs.best_estimator_"
   ]
  },
  {
   "cell_type": "code",
   "execution_count": 101,
   "metadata": {},
   "outputs": [
    {
     "data": {
      "text/plain": [
       "0.6105263157894737"
      ]
     },
     "execution_count": 101,
     "metadata": {},
     "output_type": "execute_result"
    }
   ],
   "source": [
    "gs.score(X_train, y_train)"
   ]
  },
  {
   "cell_type": "code",
   "execution_count": 110,
   "metadata": {},
   "outputs": [
    {
     "data": {
      "text/plain": [
       "Index(['scaled_yelp_1', 'scaled_yelp_2', 'scaled_yelp_3', 'scaled_yelp_4'], dtype='object')"
      ]
     },
     "execution_count": 110,
     "metadata": {},
     "output_type": "execute_result"
    }
   ],
   "source": [
    "X_train.columns"
   ]
  },
  {
   "cell_type": "code",
   "execution_count": 109,
   "metadata": {},
   "outputs": [
    {
     "data": {
      "text/plain": [
       "array([[-0.38813559,  0.11975241,  0.00292146,  0.26543309],\n",
       "       [-0.51859039,  0.10490032,  0.36944461,  0.04431561],\n",
       "       [ 0.88916   , -0.07500061, -0.3635139 , -0.45009754],\n",
       "       [ 0.01756598, -0.14965211, -0.00885217,  0.14034885]])"
      ]
     },
     "execution_count": 109,
     "metadata": {},
     "output_type": "execute_result"
    }
   ],
   "source": [
    "gs.best_estimator_.named_steps.classifier.coef_"
   ]
  },
  {
   "cell_type": "code",
   "execution_count": 111,
   "metadata": {},
   "outputs": [
    {
     "data": {
      "text/plain": [
       "array([-0.66347048,  1.39394473,  0.36991236, -1.10038662])"
      ]
     },
     "execution_count": 111,
     "metadata": {},
     "output_type": "execute_result"
    }
   ],
   "source": [
    "gs.best_estimator_.named_steps.classifier.intercept_"
   ]
  },
  {
   "cell_type": "code",
   "execution_count": null,
   "metadata": {},
   "outputs": [],
   "source": []
  }
 ],
 "metadata": {
  "kernelspec": {
   "display_name": "Python 3",
   "language": "python",
   "name": "python3"
  },
  "language_info": {
   "codemirror_mode": {
    "name": "ipython",
    "version": 3
   },
   "file_extension": ".py",
   "mimetype": "text/x-python",
   "name": "python",
   "nbconvert_exporter": "python",
   "pygments_lexer": "ipython3",
   "version": "3.6.8"
  }
 },
 "nbformat": 4,
 "nbformat_minor": 2
}
